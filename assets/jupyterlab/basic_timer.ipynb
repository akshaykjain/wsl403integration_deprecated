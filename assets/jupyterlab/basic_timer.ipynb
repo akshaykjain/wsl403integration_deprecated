{
 "cells": [
  {
   "cell_type": "code",
   "execution_count": null,
   "id": "african-export",
   "metadata": {
    "id": "50668b59-5f75-4e2f-b76c-9de2b56225dc",
    "tags": []
   },
   "outputs": [],
   "source": [
    "import time\n",
    "\n",
    "seconds = 15\n",
    "current_time = time.ctime()\n",
    "print(\">>>>>>>>>>>>>>>>>>>>>>>>>>>>>>>>>>>>>>>>>>>>>>>>>>>>>>>>>>>>>>>>>>>>>>>>>>>>>\")\n",
    "print(\"Starting Timer at {}\".format(current_time))\n",
    "time.sleep(seconds)\n",
    "print(\"Timer Stopped at {} after running for {} seconds\".format(current_time,seconds))\n",
    "print(\">>>>>>>>>>>>>>>>>>>>>>>>>>>>>>>>>>>>>>>>>>>>>>>>>>>>>>>>>>>>>>>>>>>>>>>>>>>>>\")"
   ]
  }
 ],
 "metadata": {
  "kernelspec": {
   "display_name": "Python 3.8",
   "language": "python",
   "name": "python3"
  },
  "language_info": {
   "codemirror_mode": {
    "name": "ipython",
    "version": 3
   },
   "file_extension": ".py",
   "mimetype": "text/x-python",
   "name": "python",
   "nbconvert_exporter": "python",
   "pygments_lexer": "ipython3",
   "version": "3.8.11"
  }
 },
 "nbformat": 4,
 "nbformat_minor": 5
}
